{
 "cells": [
  {
   "cell_type": "markdown",
   "metadata": {},
   "source": [
    "## Objetive\n",
    "\n",
    "Automate the daily process of updating the 'E-commerce Orders' excel database. We need to download the latest order data from the ERP website and merge it with our current database. "
   ]
  },
  {
   "cell_type": "code",
   "execution_count": 1,
   "metadata": {},
   "outputs": [],
   "source": [
    "import pandas as pd\n",
    "import os\n",
    "import shutil\n",
    "import time\n",
    "from datetime import date\n",
    "from selenium import webdriver\n",
    "from selenium.webdriver.common.keys import Keys"
   ]
  },
  {
   "cell_type": "code",
   "execution_count": 2,
   "metadata": {},
   "outputs": [],
   "source": [
    "# capture current date\n",
    "\n",
    "today = date.today()\n",
    "month = today.strftime(\"%m\")\n",
    "year = today.year\n",
    "\n",
    "# create variables of month and year\n",
    "\n",
    "month_year = str(month) + \"/\" + str(year) # date format dd/yyyy\n",
    "year_month = str(year) + \"-\" + str(month) # date format yyyy-mm"
   ]
  },
  {
   "cell_type": "code",
   "execution_count": 3,
   "metadata": {},
   "outputs": [],
   "source": [
    "# change the chrome webdriver download folder\n",
    "\n",
    "options = webdriver.ChromeOptions()\n",
    "prefs = {'download.default_directory':r'C:\\Users\\Guilherme\\Downloads\\Bases_Selenium'}\n",
    "options.add_experimental_option('prefs', prefs)"
   ]
  },
  {
   "cell_type": "markdown",
   "metadata": {},
   "source": [
    "### Download the files"
   ]
  },
  {
   "cell_type": "code",
   "execution_count": 4,
   "metadata": {},
   "outputs": [],
   "source": [
    "# initiate webdriver\n",
    "\n",
    "nav = webdriver.Chrome(options=options)\n",
    "nav.maximize_window()"
   ]
  },
  {
   "cell_type": "code",
   "execution_count": 5,
   "metadata": {},
   "outputs": [],
   "source": [
    "# access ERP website\n",
    "\n",
    "nav.get(\"https://tiny.com.br/login\")"
   ]
  },
  {
   "cell_type": "code",
   "execution_count": 6,
   "metadata": {},
   "outputs": [],
   "source": [
    "# insert username\n",
    "\n",
    "nav.find_element_by_xpath('/html/body/section/div/form/div[1]/div[2]/div[2]/input').send_keys(\"****@****\")"
   ]
  },
  {
   "cell_type": "code",
   "execution_count": 7,
   "metadata": {},
   "outputs": [],
   "source": [
    "# insert password\n",
    "\n",
    "nav.find_element_by_xpath('/html/body/section/div/form/div[1]/div[2]/div[3]/input').send_keys(\"*******\")"
   ]
  },
  {
   "cell_type": "code",
   "execution_count": 8,
   "metadata": {},
   "outputs": [],
   "source": [
    "# log in\n",
    "\n",
    "nav.find_element_by_xpath('/html/body/section/div/form/div[1]/div[2]/div[3]/input').send_keys(Keys.ENTER)"
   ]
  },
  {
   "cell_type": "code",
   "execution_count": 9,
   "metadata": {},
   "outputs": [],
   "source": [
    "time.sleep(5)"
   ]
  },
  {
   "cell_type": "code",
   "execution_count": 10,
   "metadata": {},
   "outputs": [],
   "source": [
    "# personalize the report link with current month\n",
    "\n",
    "link =  \"https://erp.tiny.com.br/exportacao_planilha_nf?tipo=S&m=\" + month_year + \"&modelo=55\""
   ]
  },
  {
   "cell_type": "markdown",
   "metadata": {},
   "source": [
    "Now that we logged in, we need to acess the report page and download report for current month\n"
   ]
  },
  {
   "cell_type": "code",
   "execution_count": 11,
   "metadata": {},
   "outputs": [],
   "source": [
    "nav.get(link)"
   ]
  },
  {
   "cell_type": "code",
   "execution_count": 12,
   "metadata": {},
   "outputs": [],
   "source": [
    "nav.find_element_by_xpath('/html/body/div[6]/div/div[2]/div[2]/div/div[3]/div/div/button').click()"
   ]
  },
  {
   "cell_type": "code",
   "execution_count": 13,
   "metadata": {},
   "outputs": [],
   "source": [
    "nav.find_element_by_xpath('/html/body/div[6]/div/div[2]/div[2]/div/div[3]/div/div/ul/li[1]/a/div/label').click()"
   ]
  },
  {
   "cell_type": "code",
   "execution_count": 14,
   "metadata": {},
   "outputs": [],
   "source": [
    "nav.find_element_by_xpath('/html/body/div[6]/div/div[2]/div[2]/div/div[5]/div/div/label').click()"
   ]
  },
  {
   "cell_type": "code",
   "execution_count": 15,
   "metadata": {},
   "outputs": [],
   "source": [
    "nav.find_element_by_xpath('/html/body/div[6]/div/div[2]/div[2]/div/div[6]/div/div[2]/label').click()"
   ]
  },
  {
   "cell_type": "code",
   "execution_count": 16,
   "metadata": {},
   "outputs": [],
   "source": [
    "nav.find_element_by_xpath('/html/body/div[6]/div/div[2]/div[2]/div/div[8]/button').click()"
   ]
  },
  {
   "cell_type": "code",
   "execution_count": 17,
   "metadata": {},
   "outputs": [],
   "source": [
    "time.sleep(3)"
   ]
  },
  {
   "cell_type": "code",
   "execution_count": 18,
   "metadata": {},
   "outputs": [
    {
     "data": {
      "text/plain": [
       "'C:\\\\Users\\\\Guilherme\\\\Downloads\\\\Bases_Selenium\\\\base_sp.csv'"
      ]
     },
     "execution_count": 18,
     "metadata": {},
     "output_type": "execute_result"
    }
   ],
   "source": [
    "# identify file name and rename it\n",
    "\n",
    "filename = max([r'C:\\Users\\Guilherme\\Downloads\\Bases_Selenium' + \"\\\\\" + f for f in os.listdir(r'C:\\Users\\Guilherme\\Downloads\\Bases_Selenium')],key=os.path.getctime)\n",
    "shutil.move(filename,os.path.join(r'C:\\Users\\Guilherme\\Downloads\\Bases_Selenium',r\"base_sp.csv\"))"
   ]
  },
  {
   "cell_type": "markdown",
   "metadata": {},
   "source": [
    "Logout from the São Paulo branch."
   ]
  },
  {
   "cell_type": "code",
   "execution_count": 19,
   "metadata": {},
   "outputs": [],
   "source": [
    "nav.find_element_by_xpath('/html/body/div[3]/div[2]/div[1]/div[1]/div[2]/ul/li[4]/a/div/div[1]/div').click()"
   ]
  },
  {
   "cell_type": "code",
   "execution_count": 20,
   "metadata": {},
   "outputs": [],
   "source": [
    "nav.find_element_by_xpath('/html/body/div[3]/div[2]/div[2]/nav[6]/div[3]/a').click()"
   ]
  },
  {
   "cell_type": "code",
   "execution_count": 21,
   "metadata": {},
   "outputs": [],
   "source": [
    "time.sleep(5)"
   ]
  },
  {
   "cell_type": "markdown",
   "metadata": {},
   "source": [
    "Repeat the process for the Porto Alegre branch report."
   ]
  },
  {
   "cell_type": "code",
   "execution_count": 22,
   "metadata": {},
   "outputs": [],
   "source": [
    "nav.get(\"https://tiny.com.br/login\")"
   ]
  },
  {
   "cell_type": "code",
   "execution_count": 23,
   "metadata": {},
   "outputs": [],
   "source": [
    "time.sleep(5)"
   ]
  },
  {
   "cell_type": "code",
   "execution_count": 24,
   "metadata": {},
   "outputs": [],
   "source": [
    "nav.find_element_by_xpath('/html/body/section/div/form/div[1]/div[2]/div[2]/input').send_keys(\"****@*****\")"
   ]
  },
  {
   "cell_type": "code",
   "execution_count": 25,
   "metadata": {},
   "outputs": [],
   "source": [
    "nav.find_element_by_xpath('/html/body/section/div/form/div[1]/div[2]/div[3]/input').send_keys(\"*******\")"
   ]
  },
  {
   "cell_type": "code",
   "execution_count": 26,
   "metadata": {},
   "outputs": [],
   "source": [
    "nav.find_element_by_xpath('/html/body/section/div/form/div[1]/div[2]/div[3]/input').send_keys(Keys.ENTER)"
   ]
  },
  {
   "cell_type": "code",
   "execution_count": 27,
   "metadata": {},
   "outputs": [],
   "source": [
    "time.sleep(10)"
   ]
  },
  {
   "cell_type": "code",
   "execution_count": 28,
   "metadata": {},
   "outputs": [],
   "source": [
    "nav.get(link)"
   ]
  },
  {
   "cell_type": "code",
   "execution_count": 29,
   "metadata": {},
   "outputs": [],
   "source": [
    "nav.find_element_by_xpath('/html/body/div[6]/div/div[2]/div[2]/div/div[3]/div/div/button').click()"
   ]
  },
  {
   "cell_type": "code",
   "execution_count": 30,
   "metadata": {},
   "outputs": [],
   "source": [
    "nav.find_element_by_xpath('/html/body/div[6]/div/div[2]/div[2]/div/div[3]/div/div/ul/li[1]/a/div/label').click()"
   ]
  },
  {
   "cell_type": "code",
   "execution_count": 31,
   "metadata": {},
   "outputs": [],
   "source": [
    "nav.find_element_by_xpath('/html/body/div[6]/div/div[2]/div[2]/div/div[5]/div/div/label').click()"
   ]
  },
  {
   "cell_type": "code",
   "execution_count": 32,
   "metadata": {},
   "outputs": [],
   "source": [
    "nav.find_element_by_xpath('/html/body/div[6]/div/div[2]/div[2]/div/div[6]/div/div[2]/label').click()"
   ]
  },
  {
   "cell_type": "code",
   "execution_count": 33,
   "metadata": {},
   "outputs": [],
   "source": [
    "nav.find_element_by_xpath('/html/body/div[6]/div/div[2]/div[2]/div/div[8]/button').click()"
   ]
  },
  {
   "cell_type": "code",
   "execution_count": 34,
   "metadata": {},
   "outputs": [],
   "source": [
    "time.sleep(3)"
   ]
  },
  {
   "cell_type": "code",
   "execution_count": 35,
   "metadata": {},
   "outputs": [],
   "source": [
    "nav.quit()"
   ]
  },
  {
   "cell_type": "code",
   "execution_count": 36,
   "metadata": {},
   "outputs": [
    {
     "data": {
      "text/plain": [
       "'C:\\\\Users\\\\Guilherme\\\\Downloads\\\\Bases_Selenium\\\\base_poa.csv'"
      ]
     },
     "execution_count": 36,
     "metadata": {},
     "output_type": "execute_result"
    }
   ],
   "source": [
    "filename = max([r'C:\\Users\\Guilherme\\Downloads\\Bases_Selenium' + \"\\\\\" + f for f in os.listdir(r'C:\\Users\\Guilherme\\Downloads\\Bases_Selenium')],key=os.path.getctime)\n",
    "shutil.move(filename,os.path.join(r'C:\\Users\\Guilherme\\Downloads\\Bases_Selenium',r\"base_poa.csv\"))"
   ]
  },
  {
   "cell_type": "markdown",
   "metadata": {},
   "source": [
    "### Database update\n",
    "\n",
    "Using the two donwloaded files, we will update our orders database."
   ]
  },
  {
   "cell_type": "code",
   "execution_count": 37,
   "metadata": {},
   "outputs": [],
   "source": [
    "# read downloaded file with orders from current month - SP branch\n",
    "\n",
    "df_sp = pd.read_csv(r'C:\\Users\\Guilherme\\Downloads\\Bases_Selenium\\base_sp.csv')"
   ]
  },
  {
   "cell_type": "code",
   "execution_count": 38,
   "metadata": {},
   "outputs": [],
   "source": [
    "# read downloaded file with orders from current month - POA branch\n",
    "\n",
    "df_poa = pd.read_csv(r'C:\\Users\\Guilherme\\Downloads\\Bases_Selenium\\base_poa.csv')"
   ]
  },
  {
   "cell_type": "code",
   "execution_count": 39,
   "metadata": {},
   "outputs": [
    {
     "data": {
      "text/plain": [
       "465"
      ]
     },
     "execution_count": 39,
     "metadata": {},
     "output_type": "execute_result"
    }
   ],
   "source": [
    "df_sp['ID Nota'].count()"
   ]
  },
  {
   "cell_type": "code",
   "execution_count": 40,
   "metadata": {},
   "outputs": [
    {
     "data": {
      "text/plain": [
       "336"
      ]
     },
     "execution_count": 40,
     "metadata": {},
     "output_type": "execute_result"
    }
   ],
   "source": [
    "df_poa['ID Nota'].count()"
   ]
  },
  {
   "cell_type": "code",
   "execution_count": 41,
   "metadata": {},
   "outputs": [],
   "source": [
    "# read the Ecommerce Orders database\n",
    "\n",
    "df_tiny = pd.read_excel(r'C:\\Users\\Guilherme\\Downloads\\Ecommerce Orders\\fNotasTiny.xlsx')"
   ]
  },
  {
   "cell_type": "code",
   "execution_count": 42,
   "metadata": {},
   "outputs": [
    {
     "data": {
      "text/plain": [
       "3256"
      ]
     },
     "execution_count": 42,
     "metadata": {},
     "output_type": "execute_result"
    }
   ],
   "source": [
    "df_tiny['ID Nota'].count()"
   ]
  },
  {
   "cell_type": "code",
   "execution_count": 43,
   "metadata": {},
   "outputs": [],
   "source": [
    "# drop the rows of the current month from current database\n",
    "\n",
    "index = df_tiny[df_tiny['Data emissao'].str.contains(year_month)].index\n",
    "df_tiny.drop(index, inplace=True)"
   ]
  },
  {
   "cell_type": "code",
   "execution_count": 44,
   "metadata": {},
   "outputs": [
    {
     "data": {
      "text/plain": [
       "2656"
      ]
     },
     "execution_count": 44,
     "metadata": {},
     "output_type": "execute_result"
    }
   ],
   "source": [
    "df_tiny['ID Nota'].count()"
   ]
  },
  {
   "cell_type": "code",
   "execution_count": 45,
   "metadata": {},
   "outputs": [],
   "source": [
    "# merge current report with downloaded files\n",
    "\n",
    "concatenated = pd.concat([df_tiny, df_sp, df_poa])"
   ]
  },
  {
   "cell_type": "code",
   "execution_count": 46,
   "metadata": {},
   "outputs": [
    {
     "data": {
      "text/plain": [
       "3457"
      ]
     },
     "execution_count": 46,
     "metadata": {},
     "output_type": "execute_result"
    }
   ],
   "source": [
    "concatenated['ID Nota'].count()"
   ]
  },
  {
   "cell_type": "code",
   "execution_count": 47,
   "metadata": {},
   "outputs": [],
   "source": [
    "# export updated report so we can use it on our Power BI dashboards\n",
    "\n",
    "concatenated.to_excel(r'C:\\Users\\Guilherme\\Downloads\\Ecommerce Orders\\fNotasTiny.xlsx', index=False, sheet_name='Notas fiscais')"
   ]
  }
 ],
 "metadata": {
  "kernelspec": {
   "display_name": "Python 3",
   "language": "python",
   "name": "python3"
  },
  "language_info": {
   "codemirror_mode": {
    "name": "ipython",
    "version": 3
   },
   "file_extension": ".py",
   "mimetype": "text/x-python",
   "name": "python",
   "nbconvert_exporter": "python",
   "pygments_lexer": "ipython3",
   "version": "3.8.5"
  }
 },
 "nbformat": 4,
 "nbformat_minor": 4
}
